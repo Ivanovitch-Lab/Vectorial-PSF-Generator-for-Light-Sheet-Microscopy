{
 "cells": [
  {
   "cell_type": "code",
   "execution_count": null,
   "id": "d2d20416",
   "metadata": {},
   "outputs": [],
   "source": [
    "import psfmodels as psfm\n",
    "import numpy as np\n",
    "import tifffile\n",
    "from pathlib import Path\n",
    "\n",
    "# ---- Acquisition parameters ----\n",
    "wavelength = 0.525          # µm (eGFP)\n",
    "nx = 65                     # must be odd\n",
    "nz = 33                     # must be odd\n",
    "dxy = 0.347                 # µm / pixel\n",
    "dz = 2.0                    # µm step in Z\n",
    "pz = 0.0                    # point source in focus\n",
    "\n",
    "# ---- Microscope/detection parameters ----\n",
    "params = {\n",
    "    \"NA\": 1.1,         # Objective NA\n",
    "    \"ni\": 1.333,       # Immersion RI (water)\n",
    "    \"ns\": 1.45,        # Sample RI\n",
    "}\n",
    "\n",
    "# ---- Simulate vectorial detection PSF ----\n",
    "psf_det = psfm.vectorial_psf_centered(\n",
    "    nz=nz, dz=dz,\n",
    "    nx=nx, dxy=dxy,\n",
    "    wvl=wavelength,\n",
    "    pz=pz,\n",
    "    params=params,\n",
    ")\n",
    "\n",
    "# ---- Model light sheet as Gaussian excitation in Z ----\n",
    "fwhm_exc_z = 3.0  # µm (light sheet axial thickness)\n",
    "sigma_exc_z = fwhm_exc_z / 2.355\n",
    "\n",
    "z_vals = np.linspace(-(nz // 2) * dz, (nz // 2) * dz, nz)\n",
    "exc_profile = np.exp(-(z_vals ** 2) / (2 * sigma_exc_z ** 2))\n",
    "exc_profile = exc_profile[:, None, None]  # shape (nz, 1, 1)\n",
    "\n",
    "# ---- Combine illumination × detection ----\n",
    "psf_eff = psf_det * exc_profile\n",
    "psf_eff /= psf_eff.sum()  # normalize to sum=1\n",
    "\n",
    "# ---- Save the effective PSF ----\n",
    "out_dir = Path(\"/media/kenzo/La Vanoise/JSDX83_16bit_tiff\")\n",
    "out_dir.mkdir(exist_ok=True)\n",
    "out_file = out_dir / \"psf_488nm_vectorial.tif\"\n",
    "\n",
    "tifffile.imwrite(out_file, psf_eff.astype(np.float32))\n",
    "print(\" Effective PSF saved:\", out_file.name, \"| shape:\", psf_eff.shape)"
   ]
  }
 ],
 "metadata": {
  "language_info": {
   "name": "python"
  }
 },
 "nbformat": 4,
 "nbformat_minor": 5
}
